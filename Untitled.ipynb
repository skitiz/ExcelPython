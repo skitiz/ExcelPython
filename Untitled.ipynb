{
 "cells": [
  {
   "cell_type": "code",
   "execution_count": 60,
   "metadata": {},
   "outputs": [],
   "source": [
    "import openpyxl as op\n",
    "count = 1"
   ]
  },
  {
   "cell_type": "code",
   "execution_count": 61,
   "metadata": {},
   "outputs": [],
   "source": [
    "wb = op.load_workbook('housing_roster.xlsx')\n",
    "wb1 = op.load_workbook('member_report.xlsx')\n",
    "workbook = op.load_workbook('final_workbook.xlsx')\n",
    "\n",
    "facility = ['SRAC', 'RWC', 'GroupEx', 'Climbing Gym', 'Perch', 'Owls Nest']"
   ]
  },
  {
   "cell_type": "code",
   "execution_count": 62,
   "metadata": {},
   "outputs": [],
   "source": [
    "sheetlist = wb.sheetnames\n",
    "sheet = wb[sheetlist[0]]\n",
    "\n",
    "sheetlist1 = wb1.sheetnames\n",
    "sheet1 = wb1[sheetlist1[0]]\n",
    "\n",
    "final_list = workbook.sheetnames\n",
    "final_sheet = workbook[final_list[0]]"
   ]
  },
  {
   "cell_type": "code",
   "execution_count": 63,
   "metadata": {},
   "outputs": [],
   "source": [
    "import sys\n",
    "sys.stdout = open(\"okay.txt\", \"w\")\n",
    "# sys.stdout = sys.__stdout__\n",
    "\n",
    "def get_facilites(n):\n",
    "    temp = sheet1.cell(row=n, column=1).value\n",
    "    final_sheet.cell(row=count, column=2).value = 0\n",
    "    final_sheet.cell(row=count, column=3).value = 0\n",
    "    final_sheet.cell(row=count, column=4).value = 0\n",
    "    final_sheet.cell(row=count, column=5).value = 0\n",
    "    final_sheet.cell(row=count, column=6).value = 0\n",
    "    final_sheet.cell(row=count, column=7).value = 0\n",
    "    while temp in facility:\n",
    "        if temp == 'SRAC':\n",
    "            final_sheet.cell(row=count, column=2).value = final_sheet.cell(row=count, column=2).value + sheet1.cell(row=n, column=5).value\n",
    "        if temp == 'RWC':\n",
    "            final_sheet.cell(row=count, column=3).value = final_sheet.cell(row=count, column=3).value + sheet1.cell(row=n, column=5).value\n",
    "        if temp == 'GroupEx':\n",
    "            final_sheet.cell(row=count, column=4).value = final_sheet.cell(row=count, column=4).value + sheet1.cell(row=n, column=5).value\n",
    "        if temp == 'Climbing Gym':\n",
    "            final_sheet.cell(row=count, column=5).value = final_sheet.cell(row=count, column=5).value + sheet1.cell(row=n, column=5).value\n",
    "        if temp == 'Perch':\n",
    "            final_sheet.cell(row=count, column=6).value = final_sheet.cell(row=count, column=6).value + sheet1.cell(row=n, column=5).value\n",
    "        if temp == 'Owls Nest':\n",
    "            final_sheet.cell(row=count, column=7).value = final_sheet.cell(row=count, column=7).value + sheet1.cell(row=n, column=5).value\n",
    "        \n",
    "        n+=1\n",
    "        temp = sheet1.cell(row=n, column=1).value"
   ]
  },
  {
   "cell_type": "code",
   "execution_count": 64,
   "metadata": {},
   "outputs": [],
   "source": [
    "for i in range(2, 3276):\n",
    "    str1 = sheet.cell(row=i, column=3).value\n",
    "    str2 = sheet.cell(row=i, column=4).value\n",
    "    temp = str1 + \" \" + str2\n",
    "    for j in range(10, 51757):\n",
    "        temp1 = sheet1.cell(row=j, column=1).value\n",
    "        if temp == temp1:\n",
    "            final_sheet.cell(row=count, column=1).value = temp1\n",
    "            get_facilites(j+1)\n",
    "            count+=1"
   ]
  }
 ],
 "metadata": {
  "kernelspec": {
   "display_name": "Python 3",
   "language": "python",
   "name": "python3"
  },
  "language_info": {
   "codemirror_mode": {
    "name": "ipython",
    "version": 3
   },
   "file_extension": ".py",
   "mimetype": "text/x-python",
   "name": "python",
   "nbconvert_exporter": "python",
   "pygments_lexer": "ipython3",
   "version": "3.6.4"
  }
 },
 "nbformat": 4,
 "nbformat_minor": 2
}
