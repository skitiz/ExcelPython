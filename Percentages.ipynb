{
 "cells": [
  {
   "cell_type": "code",
   "execution_count": 14,
   "metadata": {
    "collapsed": true
   },
   "outputs": [],
   "source": [
    "# Kshitij Bantupalli\n",
    "# 2/27/18\n",
    "# The module for working with Excel documents.\n",
    "\n",
    "import openpyxl as op"
   ]
  },
  {
   "cell_type": "code",
   "execution_count": null,
   "metadata": {
    "collapsed": true
   },
   "outputs": [],
   "source": [
    "# Load the workbook to work with.\n",
    "\n",
    "wb = op.load_workbook('Facility Participation Counts.xlsx')"
   ]
  },
  {
   "cell_type": "code",
   "execution_count": 19,
   "metadata": {},
   "outputs": [
    {
     "name": "stdout",
     "output_type": "stream",
     "text": [
      "bdhashfaghvgfhasnjfnas\n"
     ]
    }
   ],
   "source": [
    "# The type of workbook.\n",
    "\n",
    "type(wb)"
   ]
  },
  {
   "cell_type": "code",
   "execution_count": 17,
   "metadata": {},
   "outputs": [
    {
     "data": {
      "text/plain": [
       "['Sheet1']"
      ]
     },
     "execution_count": 17,
     "metadata": {},
     "output_type": "execute_result"
    }
   ],
   "source": [
    "wb.get_sheet_names()"
   ]
  },
  {
   "cell_type": "code",
   "execution_count": 8,
   "metadata": {},
   "outputs": [],
   "source": [
    "sheet = wb.get_sheet_by_name('Sheet1')"
   ]
  },
  {
   "cell_type": "code",
   "execution_count": 23,
   "metadata": {},
   "outputs": [
    {
     "name": "stdout",
     "output_type": "stream",
     "text": [
      "SC SemesterH Percentage\n",
      "54442 18556 293.39297262341023\n",
      "52571 17983 292.33720736250905\n",
      "14032 10002 140.29194161167766\n",
      "70283 19854 353.9991941170545\n",
      "76117 19245 395.51571836840736\n",
      "28714 10759 266.8835393623943\n",
      "91039 20607 441.7867714854176\n",
      "91174 19810 460.24230186774355\n",
      "34117 11124 306.6972312117943\n",
      "89248 21449 416.09399039582263\n",
      "105476 20729 508.83303584350426\n",
      "42402 11783 359.85742170924215\n",
      "98225 22389 438.71990709723525\n",
      "110869 21925 505.6738882554162\n",
      "32377 12053 268.6219198539783\n",
      "94459 23452 402.77588265393143\n",
      "97960 22655 432.39902891194\n",
      "22703 11771 192.87231331237788\n",
      "99773 24175 412.71147880041366\n",
      "121873 23103 527.5202354672554\n",
      "21793 10836 201.11664820967147\n",
      "95557 16604 575.5059021922428\n",
      "111294 23005 483.78178656813736\n",
      "5426 13287 40.83690825619026\n",
      "85185 31178 273.22150234139457\n",
      "81070 29584 274.0332612222823\n",
      "16342 13528 120.8013010053223\n",
      "90691 32500 279.04923076923075\n",
      "18123 30897 58.656180211671035\n",
      "31967 14245 224.40856440856442\n",
      "236202 33252 710.3392277156262\n"
     ]
    }
   ],
   "source": [
    "# SC = Semester count, SH = Semester Headcount\n",
    "\n",
    "percentages = []\n",
    "print(\"SC\", \"SemesterH\",\"Percentage\")\n",
    "for i in range(21, 52,):\n",
    "    temp = 0\n",
    "    temp = ((sheet.cell(row = i, column = 3).value * 100))\n",
    "    temp = temp/(sheet.cell(row=i, column=1).value)\n",
    "    print(sheet.cell(row = i, column = 3).value, sheet.cell(row = i, column = 1).value, temp)"
   ]
  },
  {
   "cell_type": "code",
   "execution_count": 10,
   "metadata": {},
   "outputs": [],
   "source": [
    "# Print the percentages associated with cells from Fall'05 to Spring'16\n",
    "\n"
   ]
  },
  {
   "cell_type": "code",
   "execution_count": null,
   "metadata": {
    "collapsed": true
   },
   "outputs": [],
   "source": []
  }
 ],
 "metadata": {
  "kernelspec": {
   "display_name": "Python 3",
   "language": "python",
   "name": "python3"
  },
  "language_info": {
   "codemirror_mode": {
    "name": "ipython",
    "version": 3
   },
   "file_extension": ".py",
   "mimetype": "text/x-python",
   "name": "python",
   "nbconvert_exporter": "python",
   "pygments_lexer": "ipython3",
   "version": "3.6.4"
  }
 },
 "nbformat": 4,
 "nbformat_minor": 2
}
