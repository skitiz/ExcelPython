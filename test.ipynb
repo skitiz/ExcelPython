{
 "cells": [
  {
   "cell_type": "code",
   "execution_count": 23,
   "metadata": {},
   "outputs": [],
   "source": [
    "import openpyxl as op"
   ]
  },
  {
   "cell_type": "code",
   "execution_count": 24,
   "metadata": {},
   "outputs": [],
   "source": [
    "facility = ['SRAC', 'RWC', 'GroupEx', 'Climbing Gym', 'Perch', 'Owls Nest']"
   ]
  },
  {
   "cell_type": "code",
   "execution_count": 25,
   "metadata": {},
   "outputs": [],
   "source": [
    "wb = op.load_workbook('member_report.xlsx')\n",
    "\n",
    "sheet = wb[wb.sheetnames[0]]"
   ]
  },
  {
   "cell_type": "code",
   "execution_count": 26,
   "metadata": {},
   "outputs": [
    {
     "name": "stdout",
     "output_type": "stream",
     "text": [
      "Kaleb Fedelem\n",
      "Perch\n",
      "SRAC\n",
      "SRAC\n"
     ]
    }
   ],
   "source": [
    "print(sheet.cell(row=10, column=1).value)\n",
    "\n",
    "x=11\n",
    "\n",
    "while sheet.cell(row=x, column=1).value in facility:\n",
    "    print(sheet.cell(row=x, column=1).value)\n",
    "    x+=1"
   ]
  },
  {
   "cell_type": "code",
   "execution_count": null,
   "metadata": {},
   "outputs": [],
   "source": [
    "\n"
   ]
  }
 ],
 "metadata": {
  "kernelspec": {
   "display_name": "Python 3",
   "language": "python",
   "name": "python3"
  },
  "language_info": {
   "codemirror_mode": {
    "name": "ipython",
    "version": 3
   },
   "file_extension": ".py",
   "mimetype": "text/x-python",
   "name": "python",
   "nbconvert_exporter": "python",
   "pygments_lexer": "ipython3",
   "version": "3.6.4"
  }
 },
 "nbformat": 4,
 "nbformat_minor": 2
}
