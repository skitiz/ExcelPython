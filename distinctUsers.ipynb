{
 "cells": [
  {
   "cell_type": "code",
   "execution_count": 1,
   "metadata": {
    "collapsed": true
   },
   "outputs": [],
   "source": [
    "# NOTE: This won't work because of overlapping distinct users per week.\n",
    "# Calculating Distinct Users\n",
    "import openpyxl as op\n",
    "import regex as re"
   ]
  },
  {
   "cell_type": "code",
   "execution_count": 3,
   "metadata": {},
   "outputs": [],
   "source": [
    "wb = op.load_workbook(\"C:\\\\Users\\\\kbantupa\\\\Documents\\\\Spreadsheets\\\\Daily Reports.xlsx\")\n"
   ]
  },
  {
   "cell_type": "code",
   "execution_count": 4,
   "metadata": {},
   "outputs": [
    {
     "data": {
      "text/plain": [
       "openpyxl.workbook.workbook.Workbook"
      ]
     },
     "execution_count": 4,
     "metadata": {},
     "output_type": "execute_result"
    }
   ],
   "source": [
    "type(wb)"
   ]
  },
  {
   "cell_type": "code",
   "execution_count": 5,
   "metadata": {},
   "outputs": [],
   "source": [
    "sheetlist = wb.sheetnames"
   ]
  },
  {
   "cell_type": "code",
   "execution_count": 6,
   "metadata": {},
   "outputs": [
    {
     "name": "stdout",
     "output_type": "stream",
     "text": [
      "20\n"
     ]
    }
   ],
   "source": [
    "sheet = wb[sheetlist[0]]\n",
    "print(sheet.cell(row = 4, column = 12).value)"
   ]
  },
  {
   "cell_type": "code",
   "execution_count": 8,
   "metadata": {},
   "outputs": [
    {
     "name": "stdout",
     "output_type": "stream",
     "text": [
      "Total : 9681866\n"
     ]
    }
   ],
   "source": [
    "m = 0\n",
    "f = 0\n",
    "total = 0\n",
    "regex = re.compile('Month .')\n",
    "\n",
    "\n",
    "def distinct(rw, cl, count, sheet):\n",
    "    currSheet = wb[sheet]\n",
    "    femaleCount = cl + 1\n",
    "    global m\n",
    "    global f\n",
    "    global total\n",
    "    \n",
    "    for i in range(0, count):\n",
    "        f += currSheet.cell(row = rw, column = cl).value\n",
    "        m += currSheet.cell(row = rw, column = femaleCount).value\n",
    "        total += m + f\n",
    "        rw += 1\n",
    "        \n",
    "\n",
    "\n",
    "for sheet in sheetlist:\n",
    "    if sheet == 'Year 2015':\n",
    "        break\n",
    "    elif sheet == 'Week 33':\n",
    "        distinct(4, 12, 4, sheet)\n",
    "    elif sheet == 'Week 34':\n",
    "        distinct(4, 26, 7, sheet)\n",
    "    elif sheet == 'Week 35':\n",
    "        distinct(4, 31, 7, sheet)\n",
    "    elif re.match(regex, sheet):\n",
    "        continue\n",
    "    elif sheet == 'Week 36':\n",
    "        distinct(4, 38, 5, sheet)\n",
    "    elif sheet == 'Week 37':\n",
    "        distinct(5, 38, 6, sheet)\n",
    "    elif sheet == 'Week 48':\n",
    "        distinct(4, 51, 3, sheet)\n",
    "    elif sheet == 'Week 51':\n",
    "        distinct(4, 51, 5, sheet)\n",
    "    elif sheet == 'Week 52':\n",
    "        continue\n",
    "    else:\n",
    "        distinct(4, 51, 7, sheet)\n",
    "    \n",
    "print(\"Total :\", total)\n",
    "        "
   ]
  },
  {
   "cell_type": "code",
   "execution_count": 9,
   "metadata": {},
   "outputs": [],
   "source": [
    "print(6644+7421)"
   ]
  },
  {
   "cell_type": "code",
   "execution_count": null,
   "metadata": {},
   "outputs": [],
   "source": []
  }
 ],
 "metadata": {
  "kernelspec": {
   "display_name": "Python 3",
   "language": "python",
   "name": "python3"
  },
  "language_info": {
   "codemirror_mode": {
    "name": "ipython",
    "version": 3
   },
   "file_extension": ".py",
   "mimetype": "text/x-python",
   "name": "python",
   "nbconvert_exporter": "python",
   "pygments_lexer": "ipython3",
   "version": "3.6.4"
  }
 },
 "nbformat": 4,
 "nbformat_minor": 1
}
